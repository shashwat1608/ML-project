{
  "cells": [
    {
      "cell_type": "code",
      "execution_count": 1,
      "metadata": {
        "id": "xyGzfesqN0ki"
      },
      "outputs": [],
      "source": [
        "import numpy as np\n",
        "import pandas as pd\n"
      ]
    },
    {
      "cell_type": "code",
      "execution_count": 2,
      "metadata": {
        "colab": {
          "base_uri": "https://localhost:8080/"
        },
        "id": "L0GbJnoXN6g6",
        "outputId": "4d3799b3-2595-45ff-b9a8-03a2e508a284"
      },
      "outputs": [
        {
          "name": "stdout",
          "output_type": "stream",
          "text": [
            "Mounted at /content/drive\n"
          ]
        }
      ],
      "source": [
        "from google.colab import drive\n",
        "drive.mount('/content/drive')"
      ]
    },
    {
      "cell_type": "code",
      "execution_count": 3,
      "metadata": {
        "colab": {
          "base_uri": "https://localhost:8080/"
        },
        "id": "TvBVYpkuIBPG",
        "outputId": "aab49d2b-5c86-4671-962c-6465f150238a"
      },
      "outputs": [
        {
          "name": "stdout",
          "output_type": "stream",
          "text": [
            "folders inside tb dataset: ['tb_train', 'tb_test']\n",
            "folders inside tb dataset:tb_train/:['normal', 'tuberculosis']\n",
            "folders inside tb dataset:tb_test/:['tuberculosis', 'normal']\n"
          ]
        }
      ],
      "source": [
        "\n",
        "import cv2\n",
        "import os\n",
        "import numpy as np\n",
        "import pandas as pd\n",
        "from matplotlib import pyplot as plt\n",
        "\n",
        "def get_pixel(img, center, x, y):\n",
        "    new_value = 0\n",
        "    try:\n",
        "        if img[x][y] >= center:\n",
        "            new_value = 1\n",
        "    except:\n",
        "        pass\n",
        "    return new_value\n",
        "\n",
        "# Function for calculating LBP\n",
        "def lbp_calculated_pixel(img, x, y):\n",
        "   \n",
        "    center = img[x][y]\n",
        "    val_ar = []\n",
        "    val_ar.append(get_pixel(img, center, x+1, y-1))     # top_right\n",
        "    val_ar.append(get_pixel(img, center, x+1, y))       # right\n",
        "    val_ar.append(get_pixel(img, center, x+1, y+1))     # bottom_right\n",
        "    val_ar.append(get_pixel(img, center, x, y+1))       # bottom\n",
        "    val_ar.append(get_pixel(img, center, x-1, y+1))     # bottom_left\n",
        "    val_ar.append(get_pixel(img, center, x-1, y))       # left\n",
        "    val_ar.append(get_pixel(img, center, x-1, y-1))     # top_left\n",
        "    val_ar.append(get_pixel(img, center, x, y-1))       # top\n",
        "    \n",
        "    # Now, we need to convert binary\n",
        "    # values to decimal\n",
        "    power_val = [1, 2, 4, 8, 16, 32, 64, 128]\n",
        "    val = 0\n",
        "    for i in range(len(val_ar)):\n",
        "        val += val_ar[i] * power_val[i]\n",
        "    return val \n",
        "\n",
        "def show_output(img_bgr,img_lbp,hist_lbp):\n",
        "  plt.subplot(1,2,1)\n",
        "  \n",
        "  plt.imshow(img_bgr,cmap='gray')\n",
        "  plt.axis('off')\n",
        "  plt.title('Gray Image') \n",
        "  plt.subplot(1,2,2)\n",
        "  plt.imshow(img_lbp)\n",
        "  plt.axis('off') \n",
        "  plt.title('LBP Image')\n",
        "  plt.show()\n",
        "\n",
        "    \n",
        "\n",
        "col = []\n",
        "outcome = []\n",
        "    \n",
        "main_path = \"/content/drive/MyDrive/NEW/\"\n",
        "print(\"folders inside tb dataset: \"+str(os.listdir(main_path)))\n",
        "for folder in os.listdir(main_path):\n",
        "  fol = main_path+folder\n",
        "  print(\"folders inside tb dataset:\"+folder+\"/:\"+str(os.listdir(fol)))\n",
        "  for sub_folder in os.listdir(fol):\n",
        "    paths = fol+\"/\"+sub_folder\n",
        "    for files in os.listdir(paths):\n",
        "      img = paths+\"/\"+files\n",
        "        \n",
        "      \n",
        "\n",
        "      img_bgr = cv2.imread(img)\n",
        "      height, width, channel = img_bgr.shape\n",
        "\n",
        "      # We need to convert RGB image\n",
        "      # into gray one because gray\n",
        "      # image has one channel only.\n",
        "      img_gray = cv2.cvtColor(img_bgr, cv2.COLOR_BGR2GRAY)\n",
        "\n",
        "      # Create a numpy array as\n",
        "      # the same height and width\n",
        "      # of RGB image    \n",
        "\n",
        "      img_lbp = np.zeros((height, width,3), np.uint8)\n",
        "      for i in range(0, height):\n",
        "          for j in range(0, width):\n",
        "              img_lbp[i, j] = lbp_calculated_pixel(img_gray, i, j)\n",
        "      hist_lbp = cv2.calcHist([img_lbp], [0], None, [15], [0, 255])\n",
        "      hist= [i for x in hist_lbp for i in x]\n",
        "      outcome.append(img.split(os.path.sep)[-2])\n",
        "      col.append(hist)\n",
        "      \n",
        "  \n",
        "\n"
      ]
    },
    {
      "cell_type": "code",
      "execution_count": 4,
      "metadata": {
        "colab": {
          "base_uri": "https://localhost:8080/",
          "height": 423
        },
        "id": "A35aCfAnfnt6",
        "outputId": "806cf605-bf76-40a2-861b-cb5b7b1f3628"
      },
      "outputs": [
        {
          "data": {
            "text/html": [
              "\n",
              "  <div id=\"df-20b45857-6fad-40a0-9391-dcf4a96ca766\">\n",
              "    <div class=\"colab-df-container\">\n",
              "      <div>\n",
              "<style scoped>\n",
              "    .dataframe tbody tr th:only-of-type {\n",
              "        vertical-align: middle;\n",
              "    }\n",
              "\n",
              "    .dataframe tbody tr th {\n",
              "        vertical-align: top;\n",
              "    }\n",
              "\n",
              "    .dataframe thead th {\n",
              "        text-align: right;\n",
              "    }\n",
              "</style>\n",
              "<table border=\"1\" class=\"dataframe\">\n",
              "  <thead>\n",
              "    <tr style=\"text-align: right;\">\n",
              "      <th></th>\n",
              "      <th>0</th>\n",
              "      <th>1</th>\n",
              "      <th>2</th>\n",
              "      <th>3</th>\n",
              "      <th>4</th>\n",
              "      <th>5</th>\n",
              "      <th>6</th>\n",
              "      <th>7</th>\n",
              "      <th>8</th>\n",
              "      <th>9</th>\n",
              "      <th>10</th>\n",
              "      <th>11</th>\n",
              "      <th>12</th>\n",
              "      <th>13</th>\n",
              "      <th>14</th>\n",
              "    </tr>\n",
              "  </thead>\n",
              "  <tbody>\n",
              "    <tr>\n",
              "      <th>0</th>\n",
              "      <td>34198.0</td>\n",
              "      <td>19704.0</td>\n",
              "      <td>6410.0</td>\n",
              "      <td>23088.0</td>\n",
              "      <td>2864.0</td>\n",
              "      <td>4324.0</td>\n",
              "      <td>4661.0</td>\n",
              "      <td>28248.0</td>\n",
              "      <td>9705.0</td>\n",
              "      <td>8395.0</td>\n",
              "      <td>3801.0</td>\n",
              "      <td>20759.0</td>\n",
              "      <td>7236.0</td>\n",
              "      <td>23414.0</td>\n",
              "      <td>32943.0</td>\n",
              "    </tr>\n",
              "    <tr>\n",
              "      <th>1</th>\n",
              "      <td>33502.0</td>\n",
              "      <td>18975.0</td>\n",
              "      <td>5339.0</td>\n",
              "      <td>24013.0</td>\n",
              "      <td>2636.0</td>\n",
              "      <td>4108.0</td>\n",
              "      <td>4446.0</td>\n",
              "      <td>27183.0</td>\n",
              "      <td>9831.0</td>\n",
              "      <td>7105.0</td>\n",
              "      <td>3471.0</td>\n",
              "      <td>21155.0</td>\n",
              "      <td>6467.0</td>\n",
              "      <td>29554.0</td>\n",
              "      <td>31356.0</td>\n",
              "    </tr>\n",
              "    <tr>\n",
              "      <th>2</th>\n",
              "      <td>23923.0</td>\n",
              "      <td>16998.0</td>\n",
              "      <td>4328.0</td>\n",
              "      <td>25555.0</td>\n",
              "      <td>1377.0</td>\n",
              "      <td>2267.0</td>\n",
              "      <td>3161.0</td>\n",
              "      <td>27433.0</td>\n",
              "      <td>9706.0</td>\n",
              "      <td>6439.0</td>\n",
              "      <td>2513.0</td>\n",
              "      <td>20254.0</td>\n",
              "      <td>5751.0</td>\n",
              "      <td>27931.0</td>\n",
              "      <td>38282.0</td>\n",
              "    </tr>\n",
              "    <tr>\n",
              "      <th>3</th>\n",
              "      <td>21594.0</td>\n",
              "      <td>14215.0</td>\n",
              "      <td>3883.0</td>\n",
              "      <td>24862.0</td>\n",
              "      <td>1354.0</td>\n",
              "      <td>1948.0</td>\n",
              "      <td>2602.0</td>\n",
              "      <td>26135.0</td>\n",
              "      <td>10455.0</td>\n",
              "      <td>6757.0</td>\n",
              "      <td>2462.0</td>\n",
              "      <td>21768.0</td>\n",
              "      <td>6319.0</td>\n",
              "      <td>29190.0</td>\n",
              "      <td>36101.0</td>\n",
              "    </tr>\n",
              "    <tr>\n",
              "      <th>4</th>\n",
              "      <td>32572.0</td>\n",
              "      <td>18937.0</td>\n",
              "      <td>5431.0</td>\n",
              "      <td>21652.0</td>\n",
              "      <td>2543.0</td>\n",
              "      <td>3815.0</td>\n",
              "      <td>4430.0</td>\n",
              "      <td>28115.0</td>\n",
              "      <td>10640.0</td>\n",
              "      <td>7131.0</td>\n",
              "      <td>3311.0</td>\n",
              "      <td>22311.0</td>\n",
              "      <td>6593.0</td>\n",
              "      <td>25816.0</td>\n",
              "      <td>31942.0</td>\n",
              "    </tr>\n",
              "    <tr>\n",
              "      <th>...</th>\n",
              "      <td>...</td>\n",
              "      <td>...</td>\n",
              "      <td>...</td>\n",
              "      <td>...</td>\n",
              "      <td>...</td>\n",
              "      <td>...</td>\n",
              "      <td>...</td>\n",
              "      <td>...</td>\n",
              "      <td>...</td>\n",
              "      <td>...</td>\n",
              "      <td>...</td>\n",
              "      <td>...</td>\n",
              "      <td>...</td>\n",
              "      <td>...</td>\n",
              "      <td>...</td>\n",
              "    </tr>\n",
              "    <tr>\n",
              "      <th>4212</th>\n",
              "      <td>29848.0</td>\n",
              "      <td>17109.0</td>\n",
              "      <td>4173.0</td>\n",
              "      <td>21268.0</td>\n",
              "      <td>1817.0</td>\n",
              "      <td>2614.0</td>\n",
              "      <td>4156.0</td>\n",
              "      <td>34246.0</td>\n",
              "      <td>12317.0</td>\n",
              "      <td>6251.0</td>\n",
              "      <td>2772.0</td>\n",
              "      <td>21865.0</td>\n",
              "      <td>6008.0</td>\n",
              "      <td>28236.0</td>\n",
              "      <td>39836.0</td>\n",
              "    </tr>\n",
              "    <tr>\n",
              "      <th>4213</th>\n",
              "      <td>28555.0</td>\n",
              "      <td>19089.0</td>\n",
              "      <td>4506.0</td>\n",
              "      <td>25023.0</td>\n",
              "      <td>1914.0</td>\n",
              "      <td>3260.0</td>\n",
              "      <td>3749.0</td>\n",
              "      <td>27026.0</td>\n",
              "      <td>9388.0</td>\n",
              "      <td>5797.0</td>\n",
              "      <td>2654.0</td>\n",
              "      <td>23721.0</td>\n",
              "      <td>5369.0</td>\n",
              "      <td>31886.0</td>\n",
              "      <td>30320.0</td>\n",
              "    </tr>\n",
              "    <tr>\n",
              "      <th>4214</th>\n",
              "      <td>24247.0</td>\n",
              "      <td>19763.0</td>\n",
              "      <td>4907.0</td>\n",
              "      <td>26075.0</td>\n",
              "      <td>1641.0</td>\n",
              "      <td>3048.0</td>\n",
              "      <td>3796.0</td>\n",
              "      <td>20967.0</td>\n",
              "      <td>6393.0</td>\n",
              "      <td>5429.0</td>\n",
              "      <td>2069.0</td>\n",
              "      <td>20787.0</td>\n",
              "      <td>4870.0</td>\n",
              "      <td>31214.0</td>\n",
              "      <td>29395.0</td>\n",
              "    </tr>\n",
              "    <tr>\n",
              "      <th>4215</th>\n",
              "      <td>33010.0</td>\n",
              "      <td>20067.0</td>\n",
              "      <td>6523.0</td>\n",
              "      <td>21790.0</td>\n",
              "      <td>2910.0</td>\n",
              "      <td>4145.0</td>\n",
              "      <td>4431.0</td>\n",
              "      <td>26045.0</td>\n",
              "      <td>9363.0</td>\n",
              "      <td>8451.0</td>\n",
              "      <td>3828.0</td>\n",
              "      <td>23737.0</td>\n",
              "      <td>7744.0</td>\n",
              "      <td>25010.0</td>\n",
              "      <td>30271.0</td>\n",
              "    </tr>\n",
              "    <tr>\n",
              "      <th>4216</th>\n",
              "      <td>26304.0</td>\n",
              "      <td>20786.0</td>\n",
              "      <td>4343.0</td>\n",
              "      <td>28257.0</td>\n",
              "      <td>1593.0</td>\n",
              "      <td>2998.0</td>\n",
              "      <td>4607.0</td>\n",
              "      <td>26576.0</td>\n",
              "      <td>11358.0</td>\n",
              "      <td>5312.0</td>\n",
              "      <td>2246.0</td>\n",
              "      <td>22398.0</td>\n",
              "      <td>4777.0</td>\n",
              "      <td>33571.0</td>\n",
              "      <td>35966.0</td>\n",
              "    </tr>\n",
              "  </tbody>\n",
              "</table>\n",
              "<p>4217 rows × 15 columns</p>\n",
              "</div>\n",
              "      <button class=\"colab-df-convert\" onclick=\"convertToInteractive('df-20b45857-6fad-40a0-9391-dcf4a96ca766')\"\n",
              "              title=\"Convert this dataframe to an interactive table.\"\n",
              "              style=\"display:none;\">\n",
              "        \n",
              "  <svg xmlns=\"http://www.w3.org/2000/svg\" height=\"24px\"viewBox=\"0 0 24 24\"\n",
              "       width=\"24px\">\n",
              "    <path d=\"M0 0h24v24H0V0z\" fill=\"none\"/>\n",
              "    <path d=\"M18.56 5.44l.94 2.06.94-2.06 2.06-.94-2.06-.94-.94-2.06-.94 2.06-2.06.94zm-11 1L8.5 8.5l.94-2.06 2.06-.94-2.06-.94L8.5 2.5l-.94 2.06-2.06.94zm10 10l.94 2.06.94-2.06 2.06-.94-2.06-.94-.94-2.06-.94 2.06-2.06.94z\"/><path d=\"M17.41 7.96l-1.37-1.37c-.4-.4-.92-.59-1.43-.59-.52 0-1.04.2-1.43.59L10.3 9.45l-7.72 7.72c-.78.78-.78 2.05 0 2.83L4 21.41c.39.39.9.59 1.41.59.51 0 1.02-.2 1.41-.59l7.78-7.78 2.81-2.81c.8-.78.8-2.07 0-2.86zM5.41 20L4 18.59l7.72-7.72 1.47 1.35L5.41 20z\"/>\n",
              "  </svg>\n",
              "      </button>\n",
              "      \n",
              "  <style>\n",
              "    .colab-df-container {\n",
              "      display:flex;\n",
              "      flex-wrap:wrap;\n",
              "      gap: 12px;\n",
              "    }\n",
              "\n",
              "    .colab-df-convert {\n",
              "      background-color: #E8F0FE;\n",
              "      border: none;\n",
              "      border-radius: 50%;\n",
              "      cursor: pointer;\n",
              "      display: none;\n",
              "      fill: #1967D2;\n",
              "      height: 32px;\n",
              "      padding: 0 0 0 0;\n",
              "      width: 32px;\n",
              "    }\n",
              "\n",
              "    .colab-df-convert:hover {\n",
              "      background-color: #E2EBFA;\n",
              "      box-shadow: 0px 1px 2px rgba(60, 64, 67, 0.3), 0px 1px 3px 1px rgba(60, 64, 67, 0.15);\n",
              "      fill: #174EA6;\n",
              "    }\n",
              "\n",
              "    [theme=dark] .colab-df-convert {\n",
              "      background-color: #3B4455;\n",
              "      fill: #D2E3FC;\n",
              "    }\n",
              "\n",
              "    [theme=dark] .colab-df-convert:hover {\n",
              "      background-color: #434B5C;\n",
              "      box-shadow: 0px 1px 3px 1px rgba(0, 0, 0, 0.15);\n",
              "      filter: drop-shadow(0px 1px 2px rgba(0, 0, 0, 0.3));\n",
              "      fill: #FFFFFF;\n",
              "    }\n",
              "  </style>\n",
              "\n",
              "      <script>\n",
              "        const buttonEl =\n",
              "          document.querySelector('#df-20b45857-6fad-40a0-9391-dcf4a96ca766 button.colab-df-convert');\n",
              "        buttonEl.style.display =\n",
              "          google.colab.kernel.accessAllowed ? 'block' : 'none';\n",
              "\n",
              "        async function convertToInteractive(key) {\n",
              "          const element = document.querySelector('#df-20b45857-6fad-40a0-9391-dcf4a96ca766');\n",
              "          const dataTable =\n",
              "            await google.colab.kernel.invokeFunction('convertToInteractive',\n",
              "                                                     [key], {});\n",
              "          if (!dataTable) return;\n",
              "\n",
              "          const docLinkHtml = 'Like what you see? Visit the ' +\n",
              "            '<a target=\"_blank\" href=https://colab.research.google.com/notebooks/data_table.ipynb>data table notebook</a>'\n",
              "            + ' to learn more about interactive tables.';\n",
              "          element.innerHTML = '';\n",
              "          dataTable['output_type'] = 'display_data';\n",
              "          await google.colab.output.renderOutput(dataTable, element);\n",
              "          const docLink = document.createElement('div');\n",
              "          docLink.innerHTML = docLinkHtml;\n",
              "          element.appendChild(docLink);\n",
              "        }\n",
              "      </script>\n",
              "    </div>\n",
              "  </div>\n",
              "  "
            ],
            "text/plain": [
              "           0        1       2        3       4       5       6        7   \\\n",
              "0     34198.0  19704.0  6410.0  23088.0  2864.0  4324.0  4661.0  28248.0   \n",
              "1     33502.0  18975.0  5339.0  24013.0  2636.0  4108.0  4446.0  27183.0   \n",
              "2     23923.0  16998.0  4328.0  25555.0  1377.0  2267.0  3161.0  27433.0   \n",
              "3     21594.0  14215.0  3883.0  24862.0  1354.0  1948.0  2602.0  26135.0   \n",
              "4     32572.0  18937.0  5431.0  21652.0  2543.0  3815.0  4430.0  28115.0   \n",
              "...       ...      ...     ...      ...     ...     ...     ...      ...   \n",
              "4212  29848.0  17109.0  4173.0  21268.0  1817.0  2614.0  4156.0  34246.0   \n",
              "4213  28555.0  19089.0  4506.0  25023.0  1914.0  3260.0  3749.0  27026.0   \n",
              "4214  24247.0  19763.0  4907.0  26075.0  1641.0  3048.0  3796.0  20967.0   \n",
              "4215  33010.0  20067.0  6523.0  21790.0  2910.0  4145.0  4431.0  26045.0   \n",
              "4216  26304.0  20786.0  4343.0  28257.0  1593.0  2998.0  4607.0  26576.0   \n",
              "\n",
              "           8       9       10       11      12       13       14  \n",
              "0      9705.0  8395.0  3801.0  20759.0  7236.0  23414.0  32943.0  \n",
              "1      9831.0  7105.0  3471.0  21155.0  6467.0  29554.0  31356.0  \n",
              "2      9706.0  6439.0  2513.0  20254.0  5751.0  27931.0  38282.0  \n",
              "3     10455.0  6757.0  2462.0  21768.0  6319.0  29190.0  36101.0  \n",
              "4     10640.0  7131.0  3311.0  22311.0  6593.0  25816.0  31942.0  \n",
              "...       ...     ...     ...      ...     ...      ...      ...  \n",
              "4212  12317.0  6251.0  2772.0  21865.0  6008.0  28236.0  39836.0  \n",
              "4213   9388.0  5797.0  2654.0  23721.0  5369.0  31886.0  30320.0  \n",
              "4214   6393.0  5429.0  2069.0  20787.0  4870.0  31214.0  29395.0  \n",
              "4215   9363.0  8451.0  3828.0  23737.0  7744.0  25010.0  30271.0  \n",
              "4216  11358.0  5312.0  2246.0  22398.0  4777.0  33571.0  35966.0  \n",
              "\n",
              "[4217 rows x 15 columns]"
            ]
          },
          "execution_count": 4,
          "metadata": {},
          "output_type": "execute_result"
        }
      ],
      "source": [
        "df= pd.DataFrame(col)\n",
        "df"
      ]
    },
    {
      "cell_type": "code",
      "execution_count": 5,
      "metadata": {
        "id": "myp46Rxxfrth"
      },
      "outputs": [],
      "source": [
        "df['outcome']= outcome"
      ]
    },
    {
      "cell_type": "code",
      "execution_count": 6,
      "metadata": {
        "colab": {
          "base_uri": "https://localhost:8080/",
          "height": 423
        },
        "id": "_g6sQMqTfuii",
        "outputId": "2dfecd41-b6fc-46f4-ea6a-f7b42d60fcfb"
      },
      "outputs": [
        {
          "data": {
            "text/html": [
              "\n",
              "  <div id=\"df-822cfc3b-b469-4357-abf5-0d31dbd44682\">\n",
              "    <div class=\"colab-df-container\">\n",
              "      <div>\n",
              "<style scoped>\n",
              "    .dataframe tbody tr th:only-of-type {\n",
              "        vertical-align: middle;\n",
              "    }\n",
              "\n",
              "    .dataframe tbody tr th {\n",
              "        vertical-align: top;\n",
              "    }\n",
              "\n",
              "    .dataframe thead th {\n",
              "        text-align: right;\n",
              "    }\n",
              "</style>\n",
              "<table border=\"1\" class=\"dataframe\">\n",
              "  <thead>\n",
              "    <tr style=\"text-align: right;\">\n",
              "      <th></th>\n",
              "      <th>0</th>\n",
              "      <th>1</th>\n",
              "      <th>2</th>\n",
              "      <th>3</th>\n",
              "      <th>4</th>\n",
              "      <th>5</th>\n",
              "      <th>6</th>\n",
              "      <th>7</th>\n",
              "      <th>8</th>\n",
              "      <th>9</th>\n",
              "      <th>10</th>\n",
              "      <th>11</th>\n",
              "      <th>12</th>\n",
              "      <th>13</th>\n",
              "      <th>14</th>\n",
              "      <th>outcome</th>\n",
              "    </tr>\n",
              "  </thead>\n",
              "  <tbody>\n",
              "    <tr>\n",
              "      <th>0</th>\n",
              "      <td>34198.0</td>\n",
              "      <td>19704.0</td>\n",
              "      <td>6410.0</td>\n",
              "      <td>23088.0</td>\n",
              "      <td>2864.0</td>\n",
              "      <td>4324.0</td>\n",
              "      <td>4661.0</td>\n",
              "      <td>28248.0</td>\n",
              "      <td>9705.0</td>\n",
              "      <td>8395.0</td>\n",
              "      <td>3801.0</td>\n",
              "      <td>20759.0</td>\n",
              "      <td>7236.0</td>\n",
              "      <td>23414.0</td>\n",
              "      <td>32943.0</td>\n",
              "      <td>normal</td>\n",
              "    </tr>\n",
              "    <tr>\n",
              "      <th>1</th>\n",
              "      <td>33502.0</td>\n",
              "      <td>18975.0</td>\n",
              "      <td>5339.0</td>\n",
              "      <td>24013.0</td>\n",
              "      <td>2636.0</td>\n",
              "      <td>4108.0</td>\n",
              "      <td>4446.0</td>\n",
              "      <td>27183.0</td>\n",
              "      <td>9831.0</td>\n",
              "      <td>7105.0</td>\n",
              "      <td>3471.0</td>\n",
              "      <td>21155.0</td>\n",
              "      <td>6467.0</td>\n",
              "      <td>29554.0</td>\n",
              "      <td>31356.0</td>\n",
              "      <td>normal</td>\n",
              "    </tr>\n",
              "    <tr>\n",
              "      <th>2</th>\n",
              "      <td>23923.0</td>\n",
              "      <td>16998.0</td>\n",
              "      <td>4328.0</td>\n",
              "      <td>25555.0</td>\n",
              "      <td>1377.0</td>\n",
              "      <td>2267.0</td>\n",
              "      <td>3161.0</td>\n",
              "      <td>27433.0</td>\n",
              "      <td>9706.0</td>\n",
              "      <td>6439.0</td>\n",
              "      <td>2513.0</td>\n",
              "      <td>20254.0</td>\n",
              "      <td>5751.0</td>\n",
              "      <td>27931.0</td>\n",
              "      <td>38282.0</td>\n",
              "      <td>normal</td>\n",
              "    </tr>\n",
              "    <tr>\n",
              "      <th>3</th>\n",
              "      <td>21594.0</td>\n",
              "      <td>14215.0</td>\n",
              "      <td>3883.0</td>\n",
              "      <td>24862.0</td>\n",
              "      <td>1354.0</td>\n",
              "      <td>1948.0</td>\n",
              "      <td>2602.0</td>\n",
              "      <td>26135.0</td>\n",
              "      <td>10455.0</td>\n",
              "      <td>6757.0</td>\n",
              "      <td>2462.0</td>\n",
              "      <td>21768.0</td>\n",
              "      <td>6319.0</td>\n",
              "      <td>29190.0</td>\n",
              "      <td>36101.0</td>\n",
              "      <td>normal</td>\n",
              "    </tr>\n",
              "    <tr>\n",
              "      <th>4</th>\n",
              "      <td>32572.0</td>\n",
              "      <td>18937.0</td>\n",
              "      <td>5431.0</td>\n",
              "      <td>21652.0</td>\n",
              "      <td>2543.0</td>\n",
              "      <td>3815.0</td>\n",
              "      <td>4430.0</td>\n",
              "      <td>28115.0</td>\n",
              "      <td>10640.0</td>\n",
              "      <td>7131.0</td>\n",
              "      <td>3311.0</td>\n",
              "      <td>22311.0</td>\n",
              "      <td>6593.0</td>\n",
              "      <td>25816.0</td>\n",
              "      <td>31942.0</td>\n",
              "      <td>normal</td>\n",
              "    </tr>\n",
              "    <tr>\n",
              "      <th>...</th>\n",
              "      <td>...</td>\n",
              "      <td>...</td>\n",
              "      <td>...</td>\n",
              "      <td>...</td>\n",
              "      <td>...</td>\n",
              "      <td>...</td>\n",
              "      <td>...</td>\n",
              "      <td>...</td>\n",
              "      <td>...</td>\n",
              "      <td>...</td>\n",
              "      <td>...</td>\n",
              "      <td>...</td>\n",
              "      <td>...</td>\n",
              "      <td>...</td>\n",
              "      <td>...</td>\n",
              "      <td>...</td>\n",
              "    </tr>\n",
              "    <tr>\n",
              "      <th>4212</th>\n",
              "      <td>29848.0</td>\n",
              "      <td>17109.0</td>\n",
              "      <td>4173.0</td>\n",
              "      <td>21268.0</td>\n",
              "      <td>1817.0</td>\n",
              "      <td>2614.0</td>\n",
              "      <td>4156.0</td>\n",
              "      <td>34246.0</td>\n",
              "      <td>12317.0</td>\n",
              "      <td>6251.0</td>\n",
              "      <td>2772.0</td>\n",
              "      <td>21865.0</td>\n",
              "      <td>6008.0</td>\n",
              "      <td>28236.0</td>\n",
              "      <td>39836.0</td>\n",
              "      <td>normal</td>\n",
              "    </tr>\n",
              "    <tr>\n",
              "      <th>4213</th>\n",
              "      <td>28555.0</td>\n",
              "      <td>19089.0</td>\n",
              "      <td>4506.0</td>\n",
              "      <td>25023.0</td>\n",
              "      <td>1914.0</td>\n",
              "      <td>3260.0</td>\n",
              "      <td>3749.0</td>\n",
              "      <td>27026.0</td>\n",
              "      <td>9388.0</td>\n",
              "      <td>5797.0</td>\n",
              "      <td>2654.0</td>\n",
              "      <td>23721.0</td>\n",
              "      <td>5369.0</td>\n",
              "      <td>31886.0</td>\n",
              "      <td>30320.0</td>\n",
              "      <td>normal</td>\n",
              "    </tr>\n",
              "    <tr>\n",
              "      <th>4214</th>\n",
              "      <td>24247.0</td>\n",
              "      <td>19763.0</td>\n",
              "      <td>4907.0</td>\n",
              "      <td>26075.0</td>\n",
              "      <td>1641.0</td>\n",
              "      <td>3048.0</td>\n",
              "      <td>3796.0</td>\n",
              "      <td>20967.0</td>\n",
              "      <td>6393.0</td>\n",
              "      <td>5429.0</td>\n",
              "      <td>2069.0</td>\n",
              "      <td>20787.0</td>\n",
              "      <td>4870.0</td>\n",
              "      <td>31214.0</td>\n",
              "      <td>29395.0</td>\n",
              "      <td>normal</td>\n",
              "    </tr>\n",
              "    <tr>\n",
              "      <th>4215</th>\n",
              "      <td>33010.0</td>\n",
              "      <td>20067.0</td>\n",
              "      <td>6523.0</td>\n",
              "      <td>21790.0</td>\n",
              "      <td>2910.0</td>\n",
              "      <td>4145.0</td>\n",
              "      <td>4431.0</td>\n",
              "      <td>26045.0</td>\n",
              "      <td>9363.0</td>\n",
              "      <td>8451.0</td>\n",
              "      <td>3828.0</td>\n",
              "      <td>23737.0</td>\n",
              "      <td>7744.0</td>\n",
              "      <td>25010.0</td>\n",
              "      <td>30271.0</td>\n",
              "      <td>normal</td>\n",
              "    </tr>\n",
              "    <tr>\n",
              "      <th>4216</th>\n",
              "      <td>26304.0</td>\n",
              "      <td>20786.0</td>\n",
              "      <td>4343.0</td>\n",
              "      <td>28257.0</td>\n",
              "      <td>1593.0</td>\n",
              "      <td>2998.0</td>\n",
              "      <td>4607.0</td>\n",
              "      <td>26576.0</td>\n",
              "      <td>11358.0</td>\n",
              "      <td>5312.0</td>\n",
              "      <td>2246.0</td>\n",
              "      <td>22398.0</td>\n",
              "      <td>4777.0</td>\n",
              "      <td>33571.0</td>\n",
              "      <td>35966.0</td>\n",
              "      <td>normal</td>\n",
              "    </tr>\n",
              "  </tbody>\n",
              "</table>\n",
              "<p>4217 rows × 16 columns</p>\n",
              "</div>\n",
              "      <button class=\"colab-df-convert\" onclick=\"convertToInteractive('df-822cfc3b-b469-4357-abf5-0d31dbd44682')\"\n",
              "              title=\"Convert this dataframe to an interactive table.\"\n",
              "              style=\"display:none;\">\n",
              "        \n",
              "  <svg xmlns=\"http://www.w3.org/2000/svg\" height=\"24px\"viewBox=\"0 0 24 24\"\n",
              "       width=\"24px\">\n",
              "    <path d=\"M0 0h24v24H0V0z\" fill=\"none\"/>\n",
              "    <path d=\"M18.56 5.44l.94 2.06.94-2.06 2.06-.94-2.06-.94-.94-2.06-.94 2.06-2.06.94zm-11 1L8.5 8.5l.94-2.06 2.06-.94-2.06-.94L8.5 2.5l-.94 2.06-2.06.94zm10 10l.94 2.06.94-2.06 2.06-.94-2.06-.94-.94-2.06-.94 2.06-2.06.94z\"/><path d=\"M17.41 7.96l-1.37-1.37c-.4-.4-.92-.59-1.43-.59-.52 0-1.04.2-1.43.59L10.3 9.45l-7.72 7.72c-.78.78-.78 2.05 0 2.83L4 21.41c.39.39.9.59 1.41.59.51 0 1.02-.2 1.41-.59l7.78-7.78 2.81-2.81c.8-.78.8-2.07 0-2.86zM5.41 20L4 18.59l7.72-7.72 1.47 1.35L5.41 20z\"/>\n",
              "  </svg>\n",
              "      </button>\n",
              "      \n",
              "  <style>\n",
              "    .colab-df-container {\n",
              "      display:flex;\n",
              "      flex-wrap:wrap;\n",
              "      gap: 12px;\n",
              "    }\n",
              "\n",
              "    .colab-df-convert {\n",
              "      background-color: #E8F0FE;\n",
              "      border: none;\n",
              "      border-radius: 50%;\n",
              "      cursor: pointer;\n",
              "      display: none;\n",
              "      fill: #1967D2;\n",
              "      height: 32px;\n",
              "      padding: 0 0 0 0;\n",
              "      width: 32px;\n",
              "    }\n",
              "\n",
              "    .colab-df-convert:hover {\n",
              "      background-color: #E2EBFA;\n",
              "      box-shadow: 0px 1px 2px rgba(60, 64, 67, 0.3), 0px 1px 3px 1px rgba(60, 64, 67, 0.15);\n",
              "      fill: #174EA6;\n",
              "    }\n",
              "\n",
              "    [theme=dark] .colab-df-convert {\n",
              "      background-color: #3B4455;\n",
              "      fill: #D2E3FC;\n",
              "    }\n",
              "\n",
              "    [theme=dark] .colab-df-convert:hover {\n",
              "      background-color: #434B5C;\n",
              "      box-shadow: 0px 1px 3px 1px rgba(0, 0, 0, 0.15);\n",
              "      filter: drop-shadow(0px 1px 2px rgba(0, 0, 0, 0.3));\n",
              "      fill: #FFFFFF;\n",
              "    }\n",
              "  </style>\n",
              "\n",
              "      <script>\n",
              "        const buttonEl =\n",
              "          document.querySelector('#df-822cfc3b-b469-4357-abf5-0d31dbd44682 button.colab-df-convert');\n",
              "        buttonEl.style.display =\n",
              "          google.colab.kernel.accessAllowed ? 'block' : 'none';\n",
              "\n",
              "        async function convertToInteractive(key) {\n",
              "          const element = document.querySelector('#df-822cfc3b-b469-4357-abf5-0d31dbd44682');\n",
              "          const dataTable =\n",
              "            await google.colab.kernel.invokeFunction('convertToInteractive',\n",
              "                                                     [key], {});\n",
              "          if (!dataTable) return;\n",
              "\n",
              "          const docLinkHtml = 'Like what you see? Visit the ' +\n",
              "            '<a target=\"_blank\" href=https://colab.research.google.com/notebooks/data_table.ipynb>data table notebook</a>'\n",
              "            + ' to learn more about interactive tables.';\n",
              "          element.innerHTML = '';\n",
              "          dataTable['output_type'] = 'display_data';\n",
              "          await google.colab.output.renderOutput(dataTable, element);\n",
              "          const docLink = document.createElement('div');\n",
              "          docLink.innerHTML = docLinkHtml;\n",
              "          element.appendChild(docLink);\n",
              "        }\n",
              "      </script>\n",
              "    </div>\n",
              "  </div>\n",
              "  "
            ],
            "text/plain": [
              "            0        1       2        3       4       5       6        7  \\\n",
              "0     34198.0  19704.0  6410.0  23088.0  2864.0  4324.0  4661.0  28248.0   \n",
              "1     33502.0  18975.0  5339.0  24013.0  2636.0  4108.0  4446.0  27183.0   \n",
              "2     23923.0  16998.0  4328.0  25555.0  1377.0  2267.0  3161.0  27433.0   \n",
              "3     21594.0  14215.0  3883.0  24862.0  1354.0  1948.0  2602.0  26135.0   \n",
              "4     32572.0  18937.0  5431.0  21652.0  2543.0  3815.0  4430.0  28115.0   \n",
              "...       ...      ...     ...      ...     ...     ...     ...      ...   \n",
              "4212  29848.0  17109.0  4173.0  21268.0  1817.0  2614.0  4156.0  34246.0   \n",
              "4213  28555.0  19089.0  4506.0  25023.0  1914.0  3260.0  3749.0  27026.0   \n",
              "4214  24247.0  19763.0  4907.0  26075.0  1641.0  3048.0  3796.0  20967.0   \n",
              "4215  33010.0  20067.0  6523.0  21790.0  2910.0  4145.0  4431.0  26045.0   \n",
              "4216  26304.0  20786.0  4343.0  28257.0  1593.0  2998.0  4607.0  26576.0   \n",
              "\n",
              "            8       9      10       11      12       13       14 outcome  \n",
              "0      9705.0  8395.0  3801.0  20759.0  7236.0  23414.0  32943.0  normal  \n",
              "1      9831.0  7105.0  3471.0  21155.0  6467.0  29554.0  31356.0  normal  \n",
              "2      9706.0  6439.0  2513.0  20254.0  5751.0  27931.0  38282.0  normal  \n",
              "3     10455.0  6757.0  2462.0  21768.0  6319.0  29190.0  36101.0  normal  \n",
              "4     10640.0  7131.0  3311.0  22311.0  6593.0  25816.0  31942.0  normal  \n",
              "...       ...     ...     ...      ...     ...      ...      ...     ...  \n",
              "4212  12317.0  6251.0  2772.0  21865.0  6008.0  28236.0  39836.0  normal  \n",
              "4213   9388.0  5797.0  2654.0  23721.0  5369.0  31886.0  30320.0  normal  \n",
              "4214   6393.0  5429.0  2069.0  20787.0  4870.0  31214.0  29395.0  normal  \n",
              "4215   9363.0  8451.0  3828.0  23737.0  7744.0  25010.0  30271.0  normal  \n",
              "4216  11358.0  5312.0  2246.0  22398.0  4777.0  33571.0  35966.0  normal  \n",
              "\n",
              "[4217 rows x 16 columns]"
            ]
          },
          "execution_count": 6,
          "metadata": {},
          "output_type": "execute_result"
        }
      ],
      "source": [
        "df\n"
      ]
    },
    {
      "cell_type": "code",
      "execution_count": 7,
      "metadata": {
        "colab": {
          "base_uri": "https://localhost:8080/"
        },
        "id": "6OoA-6KKgGjt",
        "outputId": "1f07ac35-d8d1-4cdb-e7ad-516ccc896a0b"
      },
      "outputs": [
        {
          "name": "stdout",
          "output_type": "stream",
          "text": [
            "[[ 1.1721659   0.5754139   1.4046584  ...  1.1541343  -1.1561773\n",
            "  -0.21728197]\n",
            " [ 1.0601219   0.31239906  0.63367575 ...  0.44453418  0.10480858\n",
            "  -0.57952595]\n",
            " [-0.48193157 -0.40087986 -0.09411456 ... -0.21615966 -0.22851063\n",
            "   1.0013827 ]\n",
            " ...\n",
            " [-0.42977318  0.5967004   0.32269117 ... -1.0291083   0.4457266\n",
            "  -1.027138  ]\n",
            " [ 0.9809184   0.70638007  1.4860039  ...  1.6228946  -0.82840306\n",
            "  -0.82718486]\n",
            " [-0.09863171  0.9657871  -0.08331649 ... -1.1149247   0.929789\n",
            "   0.4727392 ]]\n"
          ]
        }
      ],
      "source": [
        "from sklearn.preprocessing import StandardScaler\n",
        "features = df.drop(['outcome'], axis=1)\n",
        "scaler = StandardScaler()\n",
        "scaler.fit(features)\n",
        "s=scaler.transform(features)\n",
        "print(s)"
      ]
    },
    {
      "cell_type": "code",
      "execution_count": 8,
      "metadata": {
        "colab": {
          "base_uri": "https://localhost:8080/",
          "height": 423
        },
        "id": "_tVxcXargORm",
        "outputId": "12c6ad44-4241-44c7-b2b5-fd60cea8142c"
      },
      "outputs": [
        {
          "data": {
            "text/html": [
              "\n",
              "  <div id=\"df-5b943121-433c-49c0-b4d6-0e328a4b37f6\">\n",
              "    <div class=\"colab-df-container\">\n",
              "      <div>\n",
              "<style scoped>\n",
              "    .dataframe tbody tr th:only-of-type {\n",
              "        vertical-align: middle;\n",
              "    }\n",
              "\n",
              "    .dataframe tbody tr th {\n",
              "        vertical-align: top;\n",
              "    }\n",
              "\n",
              "    .dataframe thead th {\n",
              "        text-align: right;\n",
              "    }\n",
              "</style>\n",
              "<table border=\"1\" class=\"dataframe\">\n",
              "  <thead>\n",
              "    <tr style=\"text-align: right;\">\n",
              "      <th></th>\n",
              "      <th>0</th>\n",
              "      <th>1</th>\n",
              "      <th>2</th>\n",
              "      <th>3</th>\n",
              "      <th>4</th>\n",
              "      <th>5</th>\n",
              "      <th>6</th>\n",
              "      <th>7</th>\n",
              "      <th>8</th>\n",
              "      <th>9</th>\n",
              "      <th>10</th>\n",
              "      <th>11</th>\n",
              "      <th>12</th>\n",
              "      <th>13</th>\n",
              "      <th>14</th>\n",
              "      <th>outcome</th>\n",
              "    </tr>\n",
              "  </thead>\n",
              "  <tbody>\n",
              "    <tr>\n",
              "      <th>0</th>\n",
              "      <td>1.172166</td>\n",
              "      <td>0.575414</td>\n",
              "      <td>1.404658</td>\n",
              "      <td>-0.449544</td>\n",
              "      <td>1.287912</td>\n",
              "      <td>1.233443</td>\n",
              "      <td>0.752693</td>\n",
              "      <td>0.234416</td>\n",
              "      <td>-0.334505</td>\n",
              "      <td>1.709434</td>\n",
              "      <td>1.118935</td>\n",
              "      <td>-0.175424</td>\n",
              "      <td>1.154134</td>\n",
              "      <td>-1.156177</td>\n",
              "      <td>-0.217282</td>\n",
              "      <td>normal</td>\n",
              "    </tr>\n",
              "    <tr>\n",
              "      <th>1</th>\n",
              "      <td>1.060122</td>\n",
              "      <td>0.312399</td>\n",
              "      <td>0.633676</td>\n",
              "      <td>-0.268025</td>\n",
              "      <td>0.993094</td>\n",
              "      <td>1.048783</td>\n",
              "      <td>0.591017</td>\n",
              "      <td>-0.096046</td>\n",
              "      <td>-0.279066</td>\n",
              "      <td>0.578521</td>\n",
              "      <td>0.794030</td>\n",
              "      <td>-0.038223</td>\n",
              "      <td>0.444534</td>\n",
              "      <td>0.104809</td>\n",
              "      <td>-0.579526</td>\n",
              "      <td>normal</td>\n",
              "    </tr>\n",
              "    <tr>\n",
              "      <th>2</th>\n",
              "      <td>-0.481932</td>\n",
              "      <td>-0.400880</td>\n",
              "      <td>-0.094115</td>\n",
              "      <td>0.034573</td>\n",
              "      <td>-0.634871</td>\n",
              "      <td>-0.525099</td>\n",
              "      <td>-0.375278</td>\n",
              "      <td>-0.018473</td>\n",
              "      <td>-0.334065</td>\n",
              "      <td>-0.005345</td>\n",
              "      <td>-0.149180</td>\n",
              "      <td>-0.350390</td>\n",
              "      <td>-0.216160</td>\n",
              "      <td>-0.228511</td>\n",
              "      <td>1.001383</td>\n",
              "      <td>normal</td>\n",
              "    </tr>\n",
              "    <tr>\n",
              "      <th>3</th>\n",
              "      <td>-0.856860</td>\n",
              "      <td>-1.404954</td>\n",
              "      <td>-0.414457</td>\n",
              "      <td>-0.101419</td>\n",
              "      <td>-0.664612</td>\n",
              "      <td>-0.797814</td>\n",
              "      <td>-0.795635</td>\n",
              "      <td>-0.421234</td>\n",
              "      <td>-0.004513</td>\n",
              "      <td>0.273438</td>\n",
              "      <td>-0.199392</td>\n",
              "      <td>0.174161</td>\n",
              "      <td>0.307966</td>\n",
              "      <td>0.030053</td>\n",
              "      <td>0.503554</td>\n",
              "      <td>normal</td>\n",
              "    </tr>\n",
              "    <tr>\n",
              "      <th>4</th>\n",
              "      <td>0.910408</td>\n",
              "      <td>0.298689</td>\n",
              "      <td>0.699904</td>\n",
              "      <td>-0.731341</td>\n",
              "      <td>0.872839</td>\n",
              "      <td>0.798296</td>\n",
              "      <td>0.578985</td>\n",
              "      <td>0.193147</td>\n",
              "      <td>0.076885</td>\n",
              "      <td>0.601315</td>\n",
              "      <td>0.636500</td>\n",
              "      <td>0.362293</td>\n",
              "      <td>0.560802</td>\n",
              "      <td>-0.662873</td>\n",
              "      <td>-0.445767</td>\n",
              "      <td>normal</td>\n",
              "    </tr>\n",
              "    <tr>\n",
              "      <th>...</th>\n",
              "      <td>...</td>\n",
              "      <td>...</td>\n",
              "      <td>...</td>\n",
              "      <td>...</td>\n",
              "      <td>...</td>\n",
              "      <td>...</td>\n",
              "      <td>...</td>\n",
              "      <td>...</td>\n",
              "      <td>...</td>\n",
              "      <td>...</td>\n",
              "      <td>...</td>\n",
              "      <td>...</td>\n",
              "      <td>...</td>\n",
              "      <td>...</td>\n",
              "      <td>...</td>\n",
              "      <td>...</td>\n",
              "    </tr>\n",
              "    <tr>\n",
              "      <th>4212</th>\n",
              "      <td>0.471891</td>\n",
              "      <td>-0.360832</td>\n",
              "      <td>-0.205695</td>\n",
              "      <td>-0.806696</td>\n",
              "      <td>-0.065924</td>\n",
              "      <td>-0.228447</td>\n",
              "      <td>0.372943</td>\n",
              "      <td>2.095554</td>\n",
              "      <td>0.814745</td>\n",
              "      <td>-0.170160</td>\n",
              "      <td>0.105822</td>\n",
              "      <td>0.207769</td>\n",
              "      <td>0.020989</td>\n",
              "      <td>-0.165872</td>\n",
              "      <td>1.356094</td>\n",
              "      <td>normal</td>\n",
              "    </tr>\n",
              "    <tr>\n",
              "      <th>4213</th>\n",
              "      <td>0.263740</td>\n",
              "      <td>0.353529</td>\n",
              "      <td>0.034023</td>\n",
              "      <td>-0.069825</td>\n",
              "      <td>0.059503</td>\n",
              "      <td>0.323823</td>\n",
              "      <td>0.066887</td>\n",
              "      <td>-0.144762</td>\n",
              "      <td>-0.473981</td>\n",
              "      <td>-0.568171</td>\n",
              "      <td>-0.010356</td>\n",
              "      <td>0.850813</td>\n",
              "      <td>-0.568653</td>\n",
              "      <td>0.583737</td>\n",
              "      <td>-0.816000</td>\n",
              "      <td>normal</td>\n",
              "    </tr>\n",
              "    <tr>\n",
              "      <th>4214</th>\n",
              "      <td>-0.429773</td>\n",
              "      <td>0.596700</td>\n",
              "      <td>0.322691</td>\n",
              "      <td>0.136616</td>\n",
              "      <td>-0.293503</td>\n",
              "      <td>0.142582</td>\n",
              "      <td>0.102230</td>\n",
              "      <td>-2.024828</td>\n",
              "      <td>-1.791746</td>\n",
              "      <td>-0.890788</td>\n",
              "      <td>-0.586324</td>\n",
              "      <td>-0.165723</td>\n",
              "      <td>-1.029108</td>\n",
              "      <td>0.445727</td>\n",
              "      <td>-1.027138</td>\n",
              "      <td>normal</td>\n",
              "    </tr>\n",
              "    <tr>\n",
              "      <th>4215</th>\n",
              "      <td>0.980918</td>\n",
              "      <td>0.706380</td>\n",
              "      <td>1.486004</td>\n",
              "      <td>-0.704261</td>\n",
              "      <td>1.347393</td>\n",
              "      <td>1.080415</td>\n",
              "      <td>0.579737</td>\n",
              "      <td>-0.449160</td>\n",
              "      <td>-0.484981</td>\n",
              "      <td>1.758528</td>\n",
              "      <td>1.145518</td>\n",
              "      <td>0.856356</td>\n",
              "      <td>1.622895</td>\n",
              "      <td>-0.828403</td>\n",
              "      <td>-0.827185</td>\n",
              "      <td>normal</td>\n",
              "    </tr>\n",
              "    <tr>\n",
              "      <th>4216</th>\n",
              "      <td>-0.098632</td>\n",
              "      <td>0.965787</td>\n",
              "      <td>-0.083316</td>\n",
              "      <td>0.564806</td>\n",
              "      <td>-0.355570</td>\n",
              "      <td>0.099837</td>\n",
              "      <td>0.712086</td>\n",
              "      <td>-0.284394</td>\n",
              "      <td>0.392796</td>\n",
              "      <td>-0.993359</td>\n",
              "      <td>-0.412057</td>\n",
              "      <td>0.392436</td>\n",
              "      <td>-1.114925</td>\n",
              "      <td>0.929789</td>\n",
              "      <td>0.472739</td>\n",
              "      <td>normal</td>\n",
              "    </tr>\n",
              "  </tbody>\n",
              "</table>\n",
              "<p>4217 rows × 16 columns</p>\n",
              "</div>\n",
              "      <button class=\"colab-df-convert\" onclick=\"convertToInteractive('df-5b943121-433c-49c0-b4d6-0e328a4b37f6')\"\n",
              "              title=\"Convert this dataframe to an interactive table.\"\n",
              "              style=\"display:none;\">\n",
              "        \n",
              "  <svg xmlns=\"http://www.w3.org/2000/svg\" height=\"24px\"viewBox=\"0 0 24 24\"\n",
              "       width=\"24px\">\n",
              "    <path d=\"M0 0h24v24H0V0z\" fill=\"none\"/>\n",
              "    <path d=\"M18.56 5.44l.94 2.06.94-2.06 2.06-.94-2.06-.94-.94-2.06-.94 2.06-2.06.94zm-11 1L8.5 8.5l.94-2.06 2.06-.94-2.06-.94L8.5 2.5l-.94 2.06-2.06.94zm10 10l.94 2.06.94-2.06 2.06-.94-2.06-.94-.94-2.06-.94 2.06-2.06.94z\"/><path d=\"M17.41 7.96l-1.37-1.37c-.4-.4-.92-.59-1.43-.59-.52 0-1.04.2-1.43.59L10.3 9.45l-7.72 7.72c-.78.78-.78 2.05 0 2.83L4 21.41c.39.39.9.59 1.41.59.51 0 1.02-.2 1.41-.59l7.78-7.78 2.81-2.81c.8-.78.8-2.07 0-2.86zM5.41 20L4 18.59l7.72-7.72 1.47 1.35L5.41 20z\"/>\n",
              "  </svg>\n",
              "      </button>\n",
              "      \n",
              "  <style>\n",
              "    .colab-df-container {\n",
              "      display:flex;\n",
              "      flex-wrap:wrap;\n",
              "      gap: 12px;\n",
              "    }\n",
              "\n",
              "    .colab-df-convert {\n",
              "      background-color: #E8F0FE;\n",
              "      border: none;\n",
              "      border-radius: 50%;\n",
              "      cursor: pointer;\n",
              "      display: none;\n",
              "      fill: #1967D2;\n",
              "      height: 32px;\n",
              "      padding: 0 0 0 0;\n",
              "      width: 32px;\n",
              "    }\n",
              "\n",
              "    .colab-df-convert:hover {\n",
              "      background-color: #E2EBFA;\n",
              "      box-shadow: 0px 1px 2px rgba(60, 64, 67, 0.3), 0px 1px 3px 1px rgba(60, 64, 67, 0.15);\n",
              "      fill: #174EA6;\n",
              "    }\n",
              "\n",
              "    [theme=dark] .colab-df-convert {\n",
              "      background-color: #3B4455;\n",
              "      fill: #D2E3FC;\n",
              "    }\n",
              "\n",
              "    [theme=dark] .colab-df-convert:hover {\n",
              "      background-color: #434B5C;\n",
              "      box-shadow: 0px 1px 3px 1px rgba(0, 0, 0, 0.15);\n",
              "      filter: drop-shadow(0px 1px 2px rgba(0, 0, 0, 0.3));\n",
              "      fill: #FFFFFF;\n",
              "    }\n",
              "  </style>\n",
              "\n",
              "      <script>\n",
              "        const buttonEl =\n",
              "          document.querySelector('#df-5b943121-433c-49c0-b4d6-0e328a4b37f6 button.colab-df-convert');\n",
              "        buttonEl.style.display =\n",
              "          google.colab.kernel.accessAllowed ? 'block' : 'none';\n",
              "\n",
              "        async function convertToInteractive(key) {\n",
              "          const element = document.querySelector('#df-5b943121-433c-49c0-b4d6-0e328a4b37f6');\n",
              "          const dataTable =\n",
              "            await google.colab.kernel.invokeFunction('convertToInteractive',\n",
              "                                                     [key], {});\n",
              "          if (!dataTable) return;\n",
              "\n",
              "          const docLinkHtml = 'Like what you see? Visit the ' +\n",
              "            '<a target=\"_blank\" href=https://colab.research.google.com/notebooks/data_table.ipynb>data table notebook</a>'\n",
              "            + ' to learn more about interactive tables.';\n",
              "          element.innerHTML = '';\n",
              "          dataTable['output_type'] = 'display_data';\n",
              "          await google.colab.output.renderOutput(dataTable, element);\n",
              "          const docLink = document.createElement('div');\n",
              "          docLink.innerHTML = docLinkHtml;\n",
              "          element.appendChild(docLink);\n",
              "        }\n",
              "      </script>\n",
              "    </div>\n",
              "  </div>\n",
              "  "
            ],
            "text/plain": [
              "             0         1         2         3         4         5         6  \\\n",
              "0     1.172166  0.575414  1.404658 -0.449544  1.287912  1.233443  0.752693   \n",
              "1     1.060122  0.312399  0.633676 -0.268025  0.993094  1.048783  0.591017   \n",
              "2    -0.481932 -0.400880 -0.094115  0.034573 -0.634871 -0.525099 -0.375278   \n",
              "3    -0.856860 -1.404954 -0.414457 -0.101419 -0.664612 -0.797814 -0.795635   \n",
              "4     0.910408  0.298689  0.699904 -0.731341  0.872839  0.798296  0.578985   \n",
              "...        ...       ...       ...       ...       ...       ...       ...   \n",
              "4212  0.471891 -0.360832 -0.205695 -0.806696 -0.065924 -0.228447  0.372943   \n",
              "4213  0.263740  0.353529  0.034023 -0.069825  0.059503  0.323823  0.066887   \n",
              "4214 -0.429773  0.596700  0.322691  0.136616 -0.293503  0.142582  0.102230   \n",
              "4215  0.980918  0.706380  1.486004 -0.704261  1.347393  1.080415  0.579737   \n",
              "4216 -0.098632  0.965787 -0.083316  0.564806 -0.355570  0.099837  0.712086   \n",
              "\n",
              "             7         8         9        10        11        12        13  \\\n",
              "0     0.234416 -0.334505  1.709434  1.118935 -0.175424  1.154134 -1.156177   \n",
              "1    -0.096046 -0.279066  0.578521  0.794030 -0.038223  0.444534  0.104809   \n",
              "2    -0.018473 -0.334065 -0.005345 -0.149180 -0.350390 -0.216160 -0.228511   \n",
              "3    -0.421234 -0.004513  0.273438 -0.199392  0.174161  0.307966  0.030053   \n",
              "4     0.193147  0.076885  0.601315  0.636500  0.362293  0.560802 -0.662873   \n",
              "...        ...       ...       ...       ...       ...       ...       ...   \n",
              "4212  2.095554  0.814745 -0.170160  0.105822  0.207769  0.020989 -0.165872   \n",
              "4213 -0.144762 -0.473981 -0.568171 -0.010356  0.850813 -0.568653  0.583737   \n",
              "4214 -2.024828 -1.791746 -0.890788 -0.586324 -0.165723 -1.029108  0.445727   \n",
              "4215 -0.449160 -0.484981  1.758528  1.145518  0.856356  1.622895 -0.828403   \n",
              "4216 -0.284394  0.392796 -0.993359 -0.412057  0.392436 -1.114925  0.929789   \n",
              "\n",
              "            14 outcome  \n",
              "0    -0.217282  normal  \n",
              "1    -0.579526  normal  \n",
              "2     1.001383  normal  \n",
              "3     0.503554  normal  \n",
              "4    -0.445767  normal  \n",
              "...        ...     ...  \n",
              "4212  1.356094  normal  \n",
              "4213 -0.816000  normal  \n",
              "4214 -1.027138  normal  \n",
              "4215 -0.827185  normal  \n",
              "4216  0.472739  normal  \n",
              "\n",
              "[4217 rows x 16 columns]"
            ]
          },
          "execution_count": 8,
          "metadata": {},
          "output_type": "execute_result"
        }
      ],
      "source": [
        "df= pd.DataFrame(s)\n",
        "df['outcome']= outcome\n",
        "df"
      ]
    },
    {
      "cell_type": "code",
      "execution_count": 9,
      "metadata": {
        "id": "IDEbySkmhARv"
      },
      "outputs": [],
      "source": [
        "x = df.drop(['outcome'], axis=1)\n",
        "y = df.outcome"
      ]
    },
    {
      "cell_type": "code",
      "execution_count": 10,
      "metadata": {
        "id": "1EU7VFaBhtHn"
      },
      "outputs": [],
      "source": [
        "from sklearn.model_selection import train_test_split\n",
        "x_train, x_test, y_train, y_test = train_test_split(x,y, test_size=0.2)"
      ]
    },
    {
      "cell_type": "code",
      "execution_count": 11,
      "metadata": {
        "colab": {
          "base_uri": "https://localhost:8080/",
          "height": 74
        },
        "id": "V455f7qXhx0d",
        "outputId": "662e4540-32ea-4275-e4a5-ce87e079b016"
      },
      "outputs": [
        {
          "data": {
            "text/html": [
              "<style>#sk-container-id-1 {color: black;background-color: white;}#sk-container-id-1 pre{padding: 0;}#sk-container-id-1 div.sk-toggleable {background-color: white;}#sk-container-id-1 label.sk-toggleable__label {cursor: pointer;display: block;width: 100%;margin-bottom: 0;padding: 0.3em;box-sizing: border-box;text-align: center;}#sk-container-id-1 label.sk-toggleable__label-arrow:before {content: \"▸\";float: left;margin-right: 0.25em;color: #696969;}#sk-container-id-1 label.sk-toggleable__label-arrow:hover:before {color: black;}#sk-container-id-1 div.sk-estimator:hover label.sk-toggleable__label-arrow:before {color: black;}#sk-container-id-1 div.sk-toggleable__content {max-height: 0;max-width: 0;overflow: hidden;text-align: left;background-color: #f0f8ff;}#sk-container-id-1 div.sk-toggleable__content pre {margin: 0.2em;color: black;border-radius: 0.25em;background-color: #f0f8ff;}#sk-container-id-1 input.sk-toggleable__control:checked~div.sk-toggleable__content {max-height: 200px;max-width: 100%;overflow: auto;}#sk-container-id-1 input.sk-toggleable__control:checked~label.sk-toggleable__label-arrow:before {content: \"▾\";}#sk-container-id-1 div.sk-estimator input.sk-toggleable__control:checked~label.sk-toggleable__label {background-color: #d4ebff;}#sk-container-id-1 div.sk-label input.sk-toggleable__control:checked~label.sk-toggleable__label {background-color: #d4ebff;}#sk-container-id-1 input.sk-hidden--visually {border: 0;clip: rect(1px 1px 1px 1px);clip: rect(1px, 1px, 1px, 1px);height: 1px;margin: -1px;overflow: hidden;padding: 0;position: absolute;width: 1px;}#sk-container-id-1 div.sk-estimator {font-family: monospace;background-color: #f0f8ff;border: 1px dotted black;border-radius: 0.25em;box-sizing: border-box;margin-bottom: 0.5em;}#sk-container-id-1 div.sk-estimator:hover {background-color: #d4ebff;}#sk-container-id-1 div.sk-parallel-item::after {content: \"\";width: 100%;border-bottom: 1px solid gray;flex-grow: 1;}#sk-container-id-1 div.sk-label:hover label.sk-toggleable__label {background-color: #d4ebff;}#sk-container-id-1 div.sk-serial::before {content: \"\";position: absolute;border-left: 1px solid gray;box-sizing: border-box;top: 0;bottom: 0;left: 50%;z-index: 0;}#sk-container-id-1 div.sk-serial {display: flex;flex-direction: column;align-items: center;background-color: white;padding-right: 0.2em;padding-left: 0.2em;position: relative;}#sk-container-id-1 div.sk-item {position: relative;z-index: 1;}#sk-container-id-1 div.sk-parallel {display: flex;align-items: stretch;justify-content: center;background-color: white;position: relative;}#sk-container-id-1 div.sk-item::before, #sk-container-id-1 div.sk-parallel-item::before {content: \"\";position: absolute;border-left: 1px solid gray;box-sizing: border-box;top: 0;bottom: 0;left: 50%;z-index: -1;}#sk-container-id-1 div.sk-parallel-item {display: flex;flex-direction: column;z-index: 1;position: relative;background-color: white;}#sk-container-id-1 div.sk-parallel-item:first-child::after {align-self: flex-end;width: 50%;}#sk-container-id-1 div.sk-parallel-item:last-child::after {align-self: flex-start;width: 50%;}#sk-container-id-1 div.sk-parallel-item:only-child::after {width: 0;}#sk-container-id-1 div.sk-dashed-wrapped {border: 1px dashed gray;margin: 0 0.4em 0.5em 0.4em;box-sizing: border-box;padding-bottom: 0.4em;background-color: white;}#sk-container-id-1 div.sk-label label {font-family: monospace;font-weight: bold;display: inline-block;line-height: 1.2em;}#sk-container-id-1 div.sk-label-container {text-align: center;}#sk-container-id-1 div.sk-container {/* jupyter's `normalize.less` sets `[hidden] { display: none; }` but bootstrap.min.css set `[hidden] { display: none !important; }` so we also need the `!important` here to be able to override the default hidden behavior on the sphinx rendered scikit-learn.org. See: https://github.com/scikit-learn/scikit-learn/issues/21755 */display: inline-block !important;position: relative;}#sk-container-id-1 div.sk-text-repr-fallback {display: none;}</style><div id=\"sk-container-id-1\" class=\"sk-top-container\"><div class=\"sk-text-repr-fallback\"><pre>SVC(C=1, kernel=&#x27;linear&#x27;)</pre><b>In a Jupyter environment, please rerun this cell to show the HTML representation or trust the notebook. <br />On GitHub, the HTML representation is unable to render, please try loading this page with nbviewer.org.</b></div><div class=\"sk-container\" hidden><div class=\"sk-item\"><div class=\"sk-estimator sk-toggleable\"><input class=\"sk-toggleable__control sk-hidden--visually\" id=\"sk-estimator-id-1\" type=\"checkbox\" checked><label for=\"sk-estimator-id-1\" class=\"sk-toggleable__label sk-toggleable__label-arrow\">SVC</label><div class=\"sk-toggleable__content\"><pre>SVC(C=1, kernel=&#x27;linear&#x27;)</pre></div></div></div></div></div>"
            ],
            "text/plain": [
              "SVC(C=1, kernel='linear')"
            ]
          },
          "execution_count": 11,
          "metadata": {},
          "output_type": "execute_result"
        }
      ],
      "source": [
        "from sklearn.svm import SVC\n",
        "import pandas as pd\n",
        "import seaborn as sns\n",
        "from sklearn.metrics import classification_report\n",
        "model = SVC(C=1 ,kernel='linear')\n",
        "model.fit(x_train,y_train)"
      ]
    },
    {
      "cell_type": "code",
      "execution_count": 12,
      "metadata": {
        "id": "dh-riUyiw4IJ"
      },
      "outputs": [],
      "source": [
        "y_pred=model.predict(x_test)"
      ]
    },
    {
      "cell_type": "code",
      "execution_count": 13,
      "metadata": {
        "colab": {
          "base_uri": "https://localhost:8080/"
        },
        "id": "Uw8pzVBGwVve",
        "outputId": "4a60a0ce-3660-4152-909c-add3d3af8163"
      },
      "outputs": [
        {
          "name": "stdout",
          "output_type": "stream",
          "text": [
            "              precision    recall  f1-score   support\n",
            "\n",
            "      normal       0.99      1.00      1.00       692\n",
            "tuberculosis       1.00      0.97      0.98       152\n",
            "\n",
            "    accuracy                           0.99       844\n",
            "   macro avg       1.00      0.98      0.99       844\n",
            "weighted avg       0.99      0.99      0.99       844\n",
            "\n"
          ]
        }
      ],
      "source": [
        "from sklearn.metrics import classification_report\n",
        "print(classification_report(y_test,y_pred))"
      ]
    },
    {
      "cell_type": "code",
      "execution_count": 14,
      "metadata": {
        "colab": {
          "base_uri": "https://localhost:8080/",
          "height": 466
        },
        "id": "L6CKezHfIcHv",
        "outputId": "f8b43415-a850-45b7-9b12-a383866f445f"
      },
      "outputs": [
        {
          "data": {
            "text/plain": [
              "<sklearn.metrics._plot.confusion_matrix.ConfusionMatrixDisplay at 0x7fcbe9fe9780>"
            ]
          },
          "execution_count": 14,
          "metadata": {},
          "output_type": "execute_result"
        },
        {
          "data": {
            "image/png": "[encoded data removed]",
            "text/plain": [
              "<Figure size 640x480 with 2 Axes>"
            ]
          },
          "metadata": {},
          "output_type": "display_data"
        }
      ],
      "source": [
        "from sklearn.metrics import confusion_matrix\n",
        "from sklearn.metrics import classification_report , ConfusionMatrixDisplay\n",
        "import seaborn as sb\n",
        "cm=confusion_matrix(y_pred,y_test)\n",
        "ConfusionMatrixDisplay(cm).plot()\n"
      ]
    },
    {
      "cell_type": "code",
      "execution_count": 43,
      "metadata": {
        "colab": {
          "base_uri": "https://localhost:8080/"
        },
        "id": "NNdAiX3P3brM",
        "outputId": "eb33ca4b-3160-4e31-c043-aa953218bf0e"
      },
      "outputs": [
        {
          "name": "stdout",
          "output_type": "stream",
          "text": [
            "              precision    recall  f1-score   support\n",
            "\n",
            "      normal       0.99      1.00      1.00       692\n",
            "tuberculosis       1.00      0.97      0.99       152\n",
            "\n",
            "    accuracy                           1.00       844\n",
            "   macro avg       1.00      0.99      0.99       844\n",
            "weighted avg       1.00      1.00      1.00       844\n",
            "\n"
          ]
        }
      ],
      "source": [
        "model = SVC(C=4 ,kernel='linear')\n",
        "model.fit(x_train,y_train)\n",
        "\n",
        "y_pred=model.predict(x_test)\n",
        "\n",
        "print(classification_report(y_test,y_pred))"
      ]
    },
    {
      "cell_type": "code",
      "execution_count": 22,
      "metadata": {
        "colab": {
          "base_uri": "https://localhost:8080/"
        },
        "id": "hxgF0XbQ1-mX",
        "outputId": "d82d9d32-e96a-4723-e2da-7ff8ba670256"
      },
      "outputs": [
        {
          "name": "stdout",
          "output_type": "stream",
          "text": [
            "              precision    recall  f1-score   support\n",
            "\n",
            "      normal       0.94      0.95      0.95       692\n",
            "tuberculosis       0.78      0.73      0.75       152\n",
            "\n",
            "    accuracy                           0.91       844\n",
            "   macro avg       0.86      0.84      0.85       844\n",
            "weighted avg       0.91      0.91      0.91       844\n",
            "\n"
          ]
        }
      ],
      "source": [
        "model = SVC(C=1 ,kernel='sigmoid')\n",
        "model.fit(x_train,y_train)\n",
        "\n",
        "y_pred=model.predict(x_test)\n",
        "\n",
        "print(classification_report(y_test,y_pred))"
      ]
    },
    {
      "cell_type": "code",
      "execution_count": 23,
      "metadata": {
        "colab": {
          "base_uri": "https://localhost:8080/",
          "height": 466
        },
        "id": "CZMY4asa2T-s",
        "outputId": "6f526a1c-fd7b-4c7d-abd5-6f890c1b7bf1"
      },
      "outputs": [
        {
          "data": {
            "text/plain": [
              "<sklearn.metrics._plot.confusion_matrix.ConfusionMatrixDisplay at 0x7fcbe9fe9390>"
            ]
          },
          "execution_count": 23,
          "metadata": {},
          "output_type": "execute_result"
        },
        {
          "data": {
            "image/png": "[encoded data removed]",
            "text/plain": [
              "<Figure size 640x480 with 2 Axes>"
            ]
          },
          "metadata": {},
          "output_type": "display_data"
        }
      ],
      "source": [
        "cm=confusion_matrix(y_pred,y_test)\n",
        "ConfusionMatrixDisplay(cm).plot()"
      ]
    },
    {
      "cell_type": "code",
      "execution_count": 40,
      "metadata": {
        "colab": {
          "base_uri": "https://localhost:8080/"
        },
        "id": "lq7a9Mhh2amq",
        "outputId": "0b96d1a7-49bf-4006-ad20-bd45869a2e10"
      },
      "outputs": [
        {
          "name": "stdout",
          "output_type": "stream",
          "text": [
            "              precision    recall  f1-score   support\n",
            "\n",
            "      normal       0.94      0.95      0.95       692\n",
            "tuberculosis       0.77      0.72      0.75       152\n",
            "\n",
            "    accuracy                           0.91       844\n",
            "   macro avg       0.86      0.84      0.85       844\n",
            "weighted avg       0.91      0.91      0.91       844\n",
            "\n"
          ]
        }
      ],
      "source": [
        "model = SVC(C=3 ,kernel='sigmoid')\n",
        "model.fit(x_train,y_train)\n",
        "\n",
        "y_pred=model.predict(x_test)\n",
        "\n",
        "print(classification_report(y_test,y_pred))"
      ]
    },
    {
      "cell_type": "code",
      "execution_count": 39,
      "metadata": {
        "colab": {
          "base_uri": "https://localhost:8080/",
          "height": 466
        },
        "id": "fTm_YevZ3G6s",
        "outputId": "8924f51f-e57b-4f1f-803d-2f96478d2d69"
      },
      "outputs": [
        {
          "data": {
            "text/plain": [
              "<sklearn.metrics._plot.confusion_matrix.ConfusionMatrixDisplay at 0x7fcbcd70f9a0>"
            ]
          },
          "execution_count": 39,
          "metadata": {},
          "output_type": "execute_result"
        },
        {
          "data": {
            "image/png": "[encoded data removed]",
            "text/plain": [
              "<Figure size 640x480 with 2 Axes>"
            ]
          },
          "metadata": {},
          "output_type": "display_data"
        }
      ],
      "source": [
        "cm=confusion_matrix(y_pred,y_test)\n",
        "ConfusionMatrixDisplay(cm).plot()"
      ]
    },
    {
      "cell_type": "code",
      "execution_count": 48,
      "metadata": {
        "colab": {
          "base_uri": "https://localhost:8080/"
        },
        "id": "m_YhbVlk3rkA",
        "outputId": "84752222-8a25-4b9c-de7f-1eb11032043c"
      },
      "outputs": [
        {
          "name": "stdout",
          "output_type": "stream",
          "text": [
            "              precision    recall  f1-score   support\n",
            "\n",
            "      normal       0.99      1.00      0.99       692\n",
            "tuberculosis       1.00      0.95      0.98       152\n",
            "\n",
            "    accuracy                           0.99       844\n",
            "   macro avg       0.99      0.98      0.99       844\n",
            "weighted avg       0.99      0.99      0.99       844\n",
            "\n"
          ]
        }
      ],
      "source": [
        "model = SVC(C=1,kernel='rbf')\n",
        "model.fit(x_train,y_train)\n",
        "\n",
        "y_pred=model.predict(x_test)\n",
        "\n",
        "print(classification_report(y_test,y_pred))"
      ]
    },
    {
      "cell_type": "code",
      "execution_count": 49,
      "metadata": {
        "colab": {
          "base_uri": "https://localhost:8080/",
          "height": 466
        },
        "id": "Fk4MyXGb37AY",
        "outputId": "1b4bdd72-c8e8-45ab-f42b-4a4f16586ecb"
      },
      "outputs": [
        {
          "data": {
            "text/plain": [
              "<sklearn.metrics._plot.confusion_matrix.ConfusionMatrixDisplay at 0x7fcbcd593e80>"
            ]
          },
          "execution_count": 49,
          "metadata": {},
          "output_type": "execute_result"
        },
        {
          "data": {
            "image/png": "[encoded data removed]",
            "text/plain": [
              "<Figure size 640x480 with 2 Axes>"
            ]
          },
          "metadata": {},
          "output_type": "display_data"
        }
      ],
      "source": [
        "cm=confusion_matrix(y_pred,y_test)\n",
        "ConfusionMatrixDisplay(cm).plot()"
      ]
    },
    {
      "cell_type": "code",
      "execution_count": 51,
      "metadata": {
        "colab": {
          "base_uri": "https://localhost:8080/",
          "height": 623
        },
        "id": "AGcARE0h4Abq",
        "outputId": "1d0bc190-95b5-45b7-c49a-a129793bf148"
      },
      "outputs": [
        {
          "name": "stdout",
          "output_type": "stream",
          "text": [
            "              precision    recall  f1-score   support\n",
            "\n",
            "      normal       0.99      1.00      1.00       692\n",
            "tuberculosis       1.00      0.97      0.99       152\n",
            "\n",
            "    accuracy                           1.00       844\n",
            "   macro avg       1.00      0.99      0.99       844\n",
            "weighted avg       1.00      1.00      1.00       844\n",
            "\n"
          ]
        },
        {
          "data": {
            "text/plain": [
              "<sklearn.metrics._plot.confusion_matrix.ConfusionMatrixDisplay at 0x7fcbcd7ec310>"
            ]
          },
          "execution_count": 51,
          "metadata": {},
          "output_type": "execute_result"
        },
        {
          "data": {
            "image/png": "[encoded data removed]",
            "text/plain": [
              "<Figure size 640x480 with 2 Axes>"
            ]
          },
          "metadata": {},
          "output_type": "display_data"
        }
      ],
      "source": [
        "model = SVC(C=2,kernel='rbf')\n",
        "model.fit(x_train,y_train)\n",
        "\n",
        "y_pred=model.predict(x_test)\n",
        "\n",
        "print(classification_report(y_test,y_pred))\n",
        "\n",
        "cm=confusion_matrix(y_pred,y_test)\n",
        "ConfusionMatrixDisplay(cm).plot()"
      ]
    },
    {
      "cell_type": "code",
      "execution_count": 56,
      "metadata": {
        "colab": {
          "base_uri": "https://localhost:8080/",
          "height": 623
        },
        "id": "FHMJKNOO4mLx",
        "outputId": "f7c020cd-f881-46fe-dbd0-687a83387d51"
      },
      "outputs": [
        {
          "name": "stdout",
          "output_type": "stream",
          "text": [
            "              precision    recall  f1-score   support\n",
            "\n",
            "      normal       1.00      1.00      1.00       692\n",
            "tuberculosis       1.00      0.98      0.99       152\n",
            "\n",
            "    accuracy                           1.00       844\n",
            "   macro avg       1.00      0.99      0.99       844\n",
            "weighted avg       1.00      1.00      1.00       844\n",
            "\n"
          ]
        },
        {
          "data": {
            "text/plain": [
              "<sklearn.metrics._plot.confusion_matrix.ConfusionMatrixDisplay at 0x7fcbcd158ee0>"
            ]
          },
          "execution_count": 56,
          "metadata": {},
          "output_type": "execute_result"
        },
        {
          "data": {
            "image/png": "[encoded data removed]",
            "text/plain": [
              "<Figure size 640x480 with 2 Axes>"
            ]
          },
          "metadata": {},
          "output_type": "display_data"
        }
      ],
      "source": [
        "model = SVC(C=1,kernel='poly')\n",
        "model.fit(x_train,y_train)\n",
        "\n",
        "y_pred=model.predict(x_test)\n",
        "\n",
        "print(classification_report(y_test,y_pred))\n",
        "\n",
        "cm=confusion_matrix(y_pred,y_test)\n",
        "ConfusionMatrixDisplay(cm).plot()"
      ]
    },
    {
      "cell_type": "code",
      "execution_count": 57,
      "metadata": {
        "colab": {
          "base_uri": "https://localhost:8080/",
          "height": 623
        },
        "id": "rB1_v3xD4vzU",
        "outputId": "72d7bd0d-6c0d-4b65-caaf-abf449fc3e38"
      },
      "outputs": [
        {
          "name": "stdout",
          "output_type": "stream",
          "text": [
            "              precision    recall  f1-score   support\n",
            "\n",
            "      normal       1.00      1.00      1.00       692\n",
            "tuberculosis       1.00      0.98      0.99       152\n",
            "\n",
            "    accuracy                           1.00       844\n",
            "   macro avg       1.00      0.99      0.99       844\n",
            "weighted avg       1.00      1.00      1.00       844\n",
            "\n"
          ]
        },
        {
          "data": {
            "text/plain": [
              "<sklearn.metrics._plot.confusion_matrix.ConfusionMatrixDisplay at 0x7fcbcd30d810>"
            ]
          },
          "execution_count": 57,
          "metadata": {},
          "output_type": "execute_result"
        },
        {
          "data": {
            "image/png": "[encoded data removed]",
            "text/plain": [
              "<Figure size 640x480 with 2 Axes>"
            ]
          },
          "metadata": {},
          "output_type": "display_data"
        }
      ],
      "source": [
        "model = SVC(C=2,kernel='poly')\n",
        "model.fit(x_train,y_train)\n",
        "\n",
        "y_pred=model.predict(x_test)\n",
        "\n",
        "print(classification_report(y_test,y_pred))\n",
        "\n",
        "cm=confusion_matrix(y_pred,y_test)\n",
        "ConfusionMatrixDisplay(cm).plot()"
      ]
    },
    {
      "cell_type": "code",
      "execution_count": 15,
      "metadata": {
        "colab": {
          "base_uri": "https://localhost:8080/",
          "height": 605
        },
        "id": "jayKH-L_RPjO",
        "outputId": "999dbc49-dbb4-44b2-deac-95ea1ae35c05"
      },
      "outputs": [
        {
          "name": "stdout",
          "output_type": "stream",
          "text": [
            "              precision    recall  f1-score   support\n",
            "\n",
            "      normal       1.00      0.99      1.00       692\n",
            "tuberculosis       0.97      0.99      0.98       152\n",
            "\n",
            "    accuracy                           0.99       844\n",
            "   macro avg       0.99      0.99      0.99       844\n",
            "weighted avg       0.99      0.99      0.99       844\n",
            "\n"
          ]
        },
        {
          "data": {
            "image/png": "[encoded data removed]",
            "text/plain": [
              "<Figure size 640x480 with 2 Axes>"
            ]
          },
          "metadata": {},
          "output_type": "display_data"
        }
      ],
      "source": [
        "from sklearn.neighbors import KNeighborsClassifier\n",
        "mymodel=KNeighborsClassifier(n_neighbors=1)\n",
        "#training the model\n",
        "mymodel.fit(x_train,y_train)\n",
        "#testing the model\n",
        "y_pred=mymodel.predict(x_test)\n",
        "cm=confusion_matrix(y_pred,y_test)\n",
        "ConfusionMatrixDisplay(cm).plot()\n",
        "print(classification_report(y_test,y_pred))"
      ]
    },
    {
      "cell_type": "code",
      "execution_count": 62,
      "metadata": {
        "colab": {
          "base_uri": "https://localhost:8080/",
          "height": 605
        },
        "id": "PPFqZ-mp5ELK",
        "outputId": "6c73d683-594b-447c-ef98-ca2f1fc0f246"
      },
      "outputs": [
        {
          "name": "stdout",
          "output_type": "stream",
          "text": [
            "              precision    recall  f1-score   support\n",
            "\n",
            "      normal       1.00      1.00      1.00       692\n",
            "tuberculosis       0.99      0.99      0.99       152\n",
            "\n",
            "    accuracy                           1.00       844\n",
            "   macro avg       1.00      0.99      0.99       844\n",
            "weighted avg       1.00      1.00      1.00       844\n",
            "\n"
          ]
        },
        {
          "data": {
            "image/png": "[encoded data removed]",
            "text/plain": [
              "<Figure size 640x480 with 2 Axes>"
            ]
          },
          "metadata": {},
          "output_type": "display_data"
        }
      ],
      "source": [
        "mymodel=KNeighborsClassifier(n_neighbors=3)\n",
        "#training the model\n",
        "mymodel.fit(x_train,y_train)\n",
        "#testing the model\n",
        "y_pred=mymodel.predict(x_test)\n",
        "cm=confusion_matrix(y_pred,y_test)\n",
        "ConfusionMatrixDisplay(cm).plot()\n",
        "print(classification_report(y_test,y_pred))"
      ]
    },
    {
      "cell_type": "code",
      "execution_count": 63,
      "metadata": {
        "colab": {
          "base_uri": "https://localhost:8080/",
          "height": 605
        },
        "id": "RX7u_JWy5TEi",
        "outputId": "b87022ba-9c69-4af7-dc78-d7552de3bf04"
      },
      "outputs": [
        {
          "name": "stdout",
          "output_type": "stream",
          "text": [
            "              precision    recall  f1-score   support\n",
            "\n",
            "      normal       0.99      1.00      1.00       692\n",
            "tuberculosis       0.99      0.97      0.98       152\n",
            "\n",
            "    accuracy                           0.99       844\n",
            "   macro avg       0.99      0.99      0.99       844\n",
            "weighted avg       0.99      0.99      0.99       844\n",
            "\n"
          ]
        },
        {
          "data": {
            "image/png": "[encoded data removed]",
            "text/plain": [
              "<Figure size 640x480 with 2 Axes>"
            ]
          },
          "metadata": {},
          "output_type": "display_data"
        }
      ],
      "source": [
        "mymodel=KNeighborsClassifier(n_neighbors=5)\n",
        "#training the model\n",
        "mymodel.fit(x_train,y_train)\n",
        "#testing the model\n",
        "y_pred=mymodel.predict(x_test)\n",
        "cm=confusion_matrix(y_pred,y_test)\n",
        "ConfusionMatrixDisplay(cm).plot()\n",
        "print(classification_report(y_test,y_pred))"
      ]
    },
    {
      "cell_type": "code",
      "execution_count": 68,
      "metadata": {
        "colab": {
          "base_uri": "https://localhost:8080/",
          "height": 605
        },
        "id": "JAoII3Fj5Vlc",
        "outputId": "3c25e112-94e4-4796-9268-6909b7a91816"
      },
      "outputs": [
        {
          "name": "stdout",
          "output_type": "stream",
          "text": [
            "              precision    recall  f1-score   support\n",
            "\n",
            "      normal       0.99      1.00      0.99       692\n",
            "tuberculosis       0.99      0.97      0.98       152\n",
            "\n",
            "    accuracy                           0.99       844\n",
            "   macro avg       0.99      0.98      0.99       844\n",
            "weighted avg       0.99      0.99      0.99       844\n",
            "\n"
          ]
        },
        {
          "data": {
            "image/png": "[encoded data removed]",
            "text/plain": [
              "<Figure size 640x480 with 2 Axes>"
            ]
          },
          "metadata": {},
          "output_type": "display_data"
        }
      ],
      "source": [
        "mymodel=KNeighborsClassifier(n_neighbors=9)\n",
        "#training the model\n",
        "mymodel.fit(x_train,y_train)\n",
        "#testing the model\n",
        "y_pred=mymodel.predict(x_test)\n",
        "cm=confusion_matrix(y_pred,y_test)\n",
        "ConfusionMatrixDisplay(cm).plot()\n",
        "print(classification_report(y_test,y_pred))"
      ]
    },
    {
      "cell_type": "code",
      "execution_count": 16,
      "metadata": {
        "colab": {
          "base_uri": "https://localhost:8080/",
          "height": 605
        },
        "id": "HPDE_VHaRcVl",
        "outputId": "1b8d9aa0-4dab-40f7-a341-d36135078b00"
      },
      "outputs": [
        {
          "name": "stdout",
          "output_type": "stream",
          "text": [
            "              precision    recall  f1-score   support\n",
            "\n",
            "      normal       1.00      0.99      0.99       693\n",
            "tuberculosis       0.97      0.98      0.98       151\n",
            "\n",
            "    accuracy                           0.99       844\n",
            "   macro avg       0.98      0.99      0.99       844\n",
            "weighted avg       0.99      0.99      0.99       844\n",
            "\n"
          ]
        },
        {
          "data": {
            "image/png": "[encoded data removed]",
            "text/plain": [
              "<Figure size 640x480 with 2 Axes>"
            ]
          },
          "metadata": {},
          "output_type": "display_data"
        }
      ],
      "source": [
        "\n",
        "from sklearn.tree import DecisionTreeClassifier\n",
        "\n",
        "dt=DecisionTreeClassifier()\n",
        "dt.fit(x_train,y_train)\n",
        "\n",
        "y_pred=dt.predict(x_test)\n",
        "\n",
        "cm=confusion_matrix(y_test,y_pred)\n",
        "ConfusionMatrixDisplay(cm).plot()\n",
        "print(classification_report(y_pred,y_test))\n",
        "  \n"
      ]
    },
    {
      "cell_type": "code",
      "execution_count": 18,
      "metadata": {
        "colab": {
          "base_uri": "https://localhost:8080/",
          "height": 74
        },
        "id": "8O_MHpU3kf56",
        "outputId": "a5d7e4bb-c72a-46ba-e599-429bc96f8bf2"
      },
      "outputs": [
        {
          "data": {
            "text/html": [
              "<style>#sk-container-id-2 {color: black;background-color: white;}#sk-container-id-2 pre{padding: 0;}#sk-container-id-2 div.sk-toggleable {background-color: white;}#sk-container-id-2 label.sk-toggleable__label {cursor: pointer;display: block;width: 100%;margin-bottom: 0;padding: 0.3em;box-sizing: border-box;text-align: center;}#sk-container-id-2 label.sk-toggleable__label-arrow:before {content: \"▸\";float: left;margin-right: 0.25em;color: #696969;}#sk-container-id-2 label.sk-toggleable__label-arrow:hover:before {color: black;}#sk-container-id-2 div.sk-estimator:hover label.sk-toggleable__label-arrow:before {color: black;}#sk-container-id-2 div.sk-toggleable__content {max-height: 0;max-width: 0;overflow: hidden;text-align: left;background-color: #f0f8ff;}#sk-container-id-2 div.sk-toggleable__content pre {margin: 0.2em;color: black;border-radius: 0.25em;background-color: #f0f8ff;}#sk-container-id-2 input.sk-toggleable__control:checked~div.sk-toggleable__content {max-height: 200px;max-width: 100%;overflow: auto;}#sk-container-id-2 input.sk-toggleable__control:checked~label.sk-toggleable__label-arrow:before {content: \"▾\";}#sk-container-id-2 div.sk-estimator input.sk-toggleable__control:checked~label.sk-toggleable__label {background-color: #d4ebff;}#sk-container-id-2 div.sk-label input.sk-toggleable__control:checked~label.sk-toggleable__label {background-color: #d4ebff;}#sk-container-id-2 input.sk-hidden--visually {border: 0;clip: rect(1px 1px 1px 1px);clip: rect(1px, 1px, 1px, 1px);height: 1px;margin: -1px;overflow: hidden;padding: 0;position: absolute;width: 1px;}#sk-container-id-2 div.sk-estimator {font-family: monospace;background-color: #f0f8ff;border: 1px dotted black;border-radius: 0.25em;box-sizing: border-box;margin-bottom: 0.5em;}#sk-container-id-2 div.sk-estimator:hover {background-color: #d4ebff;}#sk-container-id-2 div.sk-parallel-item::after {content: \"\";width: 100%;border-bottom: 1px solid gray;flex-grow: 1;}#sk-container-id-2 div.sk-label:hover label.sk-toggleable__label {background-color: #d4ebff;}#sk-container-id-2 div.sk-serial::before {content: \"\";position: absolute;border-left: 1px solid gray;box-sizing: border-box;top: 0;bottom: 0;left: 50%;z-index: 0;}#sk-container-id-2 div.sk-serial {display: flex;flex-direction: column;align-items: center;background-color: white;padding-right: 0.2em;padding-left: 0.2em;position: relative;}#sk-container-id-2 div.sk-item {position: relative;z-index: 1;}#sk-container-id-2 div.sk-parallel {display: flex;align-items: stretch;justify-content: center;background-color: white;position: relative;}#sk-container-id-2 div.sk-item::before, #sk-container-id-2 div.sk-parallel-item::before {content: \"\";position: absolute;border-left: 1px solid gray;box-sizing: border-box;top: 0;bottom: 0;left: 50%;z-index: -1;}#sk-container-id-2 div.sk-parallel-item {display: flex;flex-direction: column;z-index: 1;position: relative;background-color: white;}#sk-container-id-2 div.sk-parallel-item:first-child::after {align-self: flex-end;width: 50%;}#sk-container-id-2 div.sk-parallel-item:last-child::after {align-self: flex-start;width: 50%;}#sk-container-id-2 div.sk-parallel-item:only-child::after {width: 0;}#sk-container-id-2 div.sk-dashed-wrapped {border: 1px dashed gray;margin: 0 0.4em 0.5em 0.4em;box-sizing: border-box;padding-bottom: 0.4em;background-color: white;}#sk-container-id-2 div.sk-label label {font-family: monospace;font-weight: bold;display: inline-block;line-height: 1.2em;}#sk-container-id-2 div.sk-label-container {text-align: center;}#sk-container-id-2 div.sk-container {/* jupyter's `normalize.less` sets `[hidden] { display: none; }` but bootstrap.min.css set `[hidden] { display: none !important; }` so we also need the `!important` here to be able to override the default hidden behavior on the sphinx rendered scikit-learn.org. See: https://github.com/scikit-learn/scikit-learn/issues/21755 */display: inline-block !important;position: relative;}#sk-container-id-2 div.sk-text-repr-fallback {display: none;}</style><div id=\"sk-container-id-2\" class=\"sk-top-container\"><div class=\"sk-text-repr-fallback\"><pre>RandomForestClassifier(criterion=&#x27;entropy&#x27;, n_estimators=200, random_state=0)</pre><b>In a Jupyter environment, please rerun this cell to show the HTML representation or trust the notebook. <br />On GitHub, the HTML representation is unable to render, please try loading this page with nbviewer.org.</b></div><div class=\"sk-container\" hidden><div class=\"sk-item\"><div class=\"sk-estimator sk-toggleable\"><input class=\"sk-toggleable__control sk-hidden--visually\" id=\"sk-estimator-id-2\" type=\"checkbox\" checked><label for=\"sk-estimator-id-2\" class=\"sk-toggleable__label sk-toggleable__label-arrow\">RandomForestClassifier</label><div class=\"sk-toggleable__content\"><pre>RandomForestClassifier(criterion=&#x27;entropy&#x27;, n_estimators=200, random_state=0)</pre></div></div></div></div></div>"
            ],
            "text/plain": [
              "RandomForestClassifier(criterion='entropy', n_estimators=200, random_state=0)"
            ]
          },
          "execution_count": 18,
          "metadata": {},
          "output_type": "execute_result"
        }
      ],
      "source": [
        "from sklearn.preprocessing import StandardScaler\n",
        "sc_X = StandardScaler()\n",
        "X_Train = sc_X.fit_transform(x_train)\n",
        "X_Test = sc_X.transform(x_test)\n",
        "\n",
        "# Fitting the classifier into the Training set\n",
        "\n",
        "from sklearn.ensemble import RandomForestClassifier\n",
        "classifier = RandomForestClassifier(n_estimators = 200, criterion = 'entropy', random_state = 0)\n",
        "classifier.fit(X_Train,y_train)"
      ]
    },
    {
      "cell_type": "code",
      "execution_count": 21,
      "metadata": {
        "colab": {
          "base_uri": "https://localhost:8080/",
          "height": 605
        },
        "id": "LIxLv1iq6xFB",
        "outputId": "724db816-e773-43bf-8aa3-20f419a4a2bd"
      },
      "outputs": [
        {
          "name": "stdout",
          "output_type": "stream",
          "text": [
            "              precision    recall  f1-score   support\n",
            "\n",
            "      normal       1.00      0.99      0.99       693\n",
            "tuberculosis       0.97      0.98      0.98       151\n",
            "\n",
            "    accuracy                           0.99       844\n",
            "   macro avg       0.98      0.99      0.99       844\n",
            "weighted avg       0.99      0.99      0.99       844\n",
            "\n"
          ]
        },
        {
          "data": {
            "image/png": "[encoded data removed]",
            "text/plain": [
              "<Figure size 640x480 with 2 Axes>"
            ]
          },
          "metadata": {},
          "output_type": "display_data"
        }
      ],
      "source": [
        "Y_Pred = classifier.predict(x_test)\n",
        "\n",
        "# Making the Confusion Matrix \n",
        "\n",
        "from sklearn.metrics import confusion_matrix\n",
        "cm = confusion_matrix(y_test, Y_Pred)\n",
        "ConfusionMatrixDisplay(cm).plot()\n",
        "print(classification_report(y_pred,y_test))"
      ]
    },
    {
      "cell_type": "code",
      "execution_count": null,
      "metadata": {
        "id": "I6ImDITk7JXD"
      },
      "outputs": [],
      "source": [
        "\n"
      ]
    },
    {
      "cell_type": "code",
      "execution_count": null,
      "metadata": {
        "id": "_Sl1lU0aBaCA"
      },
      "outputs": [],
      "source": []
    },
    {
      "cell_type": "code",
      "execution_count": null,
      "metadata": {
        "id": "HG1QBH4NBfOz"
      },
      "outputs": [],
      "source": []
    }
  ],
  "metadata": {
    "accelerator": "GPU",
    "colab": {
      "gpuType": "T4",
      "provenance": []
    },
    "gpuClass": "standard",
    "kernelspec": {
      "display_name": "Python 3",
      "name": "python3"
    },
    "language_info": {
      "name": "python"
    }
  },
  "nbformat": 4,
  "nbformat_minor": 0
}
